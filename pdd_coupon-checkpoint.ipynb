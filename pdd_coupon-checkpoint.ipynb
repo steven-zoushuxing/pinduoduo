{
 "cells": [
  {
   "cell_type": "code",
   "execution_count": 1,
   "id": "826c80bb",
   "metadata": {},
   "outputs": [],
   "source": [
    "#导入库\n",
    "import pandas as pd\n",
    "import seaborn as sns\n",
    "import matplotlib.pyplot as plt\n",
    "%matplotlib inline\n",
    "pdd=pd.read_csv('拼多多优惠券数据.csv',index_col=0)"
   ]
  },
  {
   "cell_type": "code",
   "execution_count": 2,
   "id": "75dd2264",
   "metadata": {},
   "outputs": [
    {
     "name": "stdout",
     "output_type": "stream",
     "text": [
      "<class 'pandas.core.frame.DataFrame'>\n",
      "Int64Index: 25317 entries, 1 to 25317\n",
      "Data columns (total 9 columns):\n",
      " #   Column                      Non-Null Count  Dtype \n",
      "---  ------                      --------------  ----- \n",
      " 0   age                         25317 non-null  int64 \n",
      " 1   job                         25317 non-null  object\n",
      " 2   marital                     25317 non-null  object\n",
      " 3   default                     25317 non-null  object\n",
      " 4   returned                    25317 non-null  object\n",
      " 5   loan                        25317 non-null  object\n",
      " 6   coupon_used_in_last6_month  25317 non-null  int64 \n",
      " 7   coupon_used_in_last_month   25317 non-null  int64 \n",
      " 8   coupon_ind                  25317 non-null  int64 \n",
      "dtypes: int64(4), object(5)\n",
      "memory usage: 1.9+ MB\n"
     ]
    }
   ],
   "source": [
    "pdd.info()"
   ]
  },
  {
   "cell_type": "markdown",
   "id": "2a14d932",
   "metadata": {},
   "source": [
    "数据无缺失值，不需要填充"
   ]
  },
  {
   "cell_type": "code",
   "execution_count": 3,
   "id": "30ffb764",
   "metadata": {},
   "outputs": [
    {
     "data": {
      "text/html": [
       "<div>\n",
       "<style scoped>\n",
       "    .dataframe tbody tr th:only-of-type {\n",
       "        vertical-align: middle;\n",
       "    }\n",
       "\n",
       "    .dataframe tbody tr th {\n",
       "        vertical-align: top;\n",
       "    }\n",
       "\n",
       "    .dataframe thead th {\n",
       "        text-align: right;\n",
       "    }\n",
       "</style>\n",
       "<table border=\"1\" class=\"dataframe\">\n",
       "  <thead>\n",
       "    <tr style=\"text-align: right;\">\n",
       "      <th></th>\n",
       "      <th>age</th>\n",
       "      <th>job</th>\n",
       "      <th>marital</th>\n",
       "      <th>default</th>\n",
       "      <th>returned</th>\n",
       "      <th>loan</th>\n",
       "      <th>coupon_used_in_last6_month</th>\n",
       "      <th>coupon_used_in_last_month</th>\n",
       "      <th>coupon_ind</th>\n",
       "    </tr>\n",
       "    <tr>\n",
       "      <th>ID</th>\n",
       "      <th></th>\n",
       "      <th></th>\n",
       "      <th></th>\n",
       "      <th></th>\n",
       "      <th></th>\n",
       "      <th></th>\n",
       "      <th></th>\n",
       "      <th></th>\n",
       "      <th></th>\n",
       "    </tr>\n",
       "  </thead>\n",
       "  <tbody>\n",
       "    <tr>\n",
       "      <th>1</th>\n",
       "      <td>43</td>\n",
       "      <td>management</td>\n",
       "      <td>married</td>\n",
       "      <td>no</td>\n",
       "      <td>yes</td>\n",
       "      <td>no</td>\n",
       "      <td>2</td>\n",
       "      <td>0</td>\n",
       "      <td>0</td>\n",
       "    </tr>\n",
       "    <tr>\n",
       "      <th>2</th>\n",
       "      <td>42</td>\n",
       "      <td>technician</td>\n",
       "      <td>divorced</td>\n",
       "      <td>no</td>\n",
       "      <td>yes</td>\n",
       "      <td>no</td>\n",
       "      <td>1</td>\n",
       "      <td>1</td>\n",
       "      <td>0</td>\n",
       "    </tr>\n",
       "    <tr>\n",
       "      <th>3</th>\n",
       "      <td>47</td>\n",
       "      <td>admin.</td>\n",
       "      <td>married</td>\n",
       "      <td>no</td>\n",
       "      <td>yes</td>\n",
       "      <td>yes</td>\n",
       "      <td>2</td>\n",
       "      <td>0</td>\n",
       "      <td>0</td>\n",
       "    </tr>\n",
       "    <tr>\n",
       "      <th>4</th>\n",
       "      <td>28</td>\n",
       "      <td>management</td>\n",
       "      <td>single</td>\n",
       "      <td>no</td>\n",
       "      <td>yes</td>\n",
       "      <td>yes</td>\n",
       "      <td>2</td>\n",
       "      <td>0</td>\n",
       "      <td>0</td>\n",
       "    </tr>\n",
       "    <tr>\n",
       "      <th>5</th>\n",
       "      <td>42</td>\n",
       "      <td>technician</td>\n",
       "      <td>divorced</td>\n",
       "      <td>no</td>\n",
       "      <td>yes</td>\n",
       "      <td>no</td>\n",
       "      <td>5</td>\n",
       "      <td>0</td>\n",
       "      <td>0</td>\n",
       "    </tr>\n",
       "    <tr>\n",
       "      <th>6</th>\n",
       "      <td>56</td>\n",
       "      <td>services</td>\n",
       "      <td>divorced</td>\n",
       "      <td>no</td>\n",
       "      <td>no</td>\n",
       "      <td>no</td>\n",
       "      <td>1</td>\n",
       "      <td>0</td>\n",
       "      <td>0</td>\n",
       "    </tr>\n",
       "    <tr>\n",
       "      <th>7</th>\n",
       "      <td>32</td>\n",
       "      <td>management</td>\n",
       "      <td>single</td>\n",
       "      <td>no</td>\n",
       "      <td>no</td>\n",
       "      <td>no</td>\n",
       "      <td>4</td>\n",
       "      <td>0</td>\n",
       "      <td>0</td>\n",
       "    </tr>\n",
       "    <tr>\n",
       "      <th>8</th>\n",
       "      <td>33</td>\n",
       "      <td>management</td>\n",
       "      <td>single</td>\n",
       "      <td>no</td>\n",
       "      <td>no</td>\n",
       "      <td>no</td>\n",
       "      <td>2</td>\n",
       "      <td>0</td>\n",
       "      <td>0</td>\n",
       "    </tr>\n",
       "    <tr>\n",
       "      <th>9</th>\n",
       "      <td>32</td>\n",
       "      <td>technician</td>\n",
       "      <td>single</td>\n",
       "      <td>no</td>\n",
       "      <td>yes</td>\n",
       "      <td>yes</td>\n",
       "      <td>3</td>\n",
       "      <td>0</td>\n",
       "      <td>0</td>\n",
       "    </tr>\n",
       "    <tr>\n",
       "      <th>10</th>\n",
       "      <td>55</td>\n",
       "      <td>management</td>\n",
       "      <td>married</td>\n",
       "      <td>no</td>\n",
       "      <td>no</td>\n",
       "      <td>yes</td>\n",
       "      <td>3</td>\n",
       "      <td>0</td>\n",
       "      <td>0</td>\n",
       "    </tr>\n",
       "  </tbody>\n",
       "</table>\n",
       "</div>"
      ],
      "text/plain": [
       "    age         job   marital default returned loan  \\\n",
       "ID                                                    \n",
       "1    43  management   married      no      yes   no   \n",
       "2    42  technician  divorced      no      yes   no   \n",
       "3    47      admin.   married      no      yes  yes   \n",
       "4    28  management    single      no      yes  yes   \n",
       "5    42  technician  divorced      no      yes   no   \n",
       "6    56    services  divorced      no       no   no   \n",
       "7    32  management    single      no       no   no   \n",
       "8    33  management    single      no       no   no   \n",
       "9    32  technician    single      no      yes  yes   \n",
       "10   55  management   married      no       no  yes   \n",
       "\n",
       "    coupon_used_in_last6_month  coupon_used_in_last_month  coupon_ind  \n",
       "ID                                                                     \n",
       "1                            2                          0           0  \n",
       "2                            1                          1           0  \n",
       "3                            2                          0           0  \n",
       "4                            2                          0           0  \n",
       "5                            5                          0           0  \n",
       "6                            1                          0           0  \n",
       "7                            4                          0           0  \n",
       "8                            2                          0           0  \n",
       "9                            3                          0           0  \n",
       "10                           3                          0           0  "
      ]
     },
     "execution_count": 3,
     "metadata": {},
     "output_type": "execute_result"
    }
   ],
   "source": [
    "#数据概况\n",
    "pdd.head(10)"
   ]
  },
  {
   "cell_type": "markdown",
   "id": "7719d8b3",
   "metadata": {},
   "source": [
    "用户信息维度\n",
    "ID 记录（无关数值变量，删除）\n",
    "age 年龄（数值变量）\n",
    "job 职业（分类变量，重新划分high,medium,low三类）\n",
    "arital 婚姻状况（分类变量）\n",
    "default 信用卡是否违约（分类变量）\n",
    "returned 是否有过退货（分类变量）\n",
    "load 是否使用信用卡付款（分类变量）\n",
    "coupon_used_in_last6_month 过去6个月使用的优惠券（数值变量）\n",
    "coupon_used_in_last_month 过去1个月使用的优惠券（数值变量）\n",
    "coupon_ind 在本次活动中是否使用优惠券（数值变量，重命名为flag）"
   ]
  },
  {
   "cell_type": "code",
   "execution_count": 4,
   "id": "1419da3c",
   "metadata": {},
   "outputs": [
    {
     "data": {
      "text/plain": [
       "Index(['age', 'job', 'marital', 'default', 'returned', 'loan',\n",
       "       'coupon_used_in_last6_month', 'coupon_used_in_last_month',\n",
       "       'coupon_ind'],\n",
       "      dtype='object')"
      ]
     },
     "execution_count": 4,
     "metadata": {},
     "output_type": "execute_result"
    }
   ],
   "source": [
    "#查看数据的列名\n",
    "pdd.columns"
   ]
  },
  {
   "cell_type": "code",
   "execution_count": 5,
   "id": "b9bd6101",
   "metadata": {
    "scrolled": true
   },
   "outputs": [
    {
     "data": {
      "text/html": [
       "<div>\n",
       "<style scoped>\n",
       "    .dataframe tbody tr th:only-of-type {\n",
       "        vertical-align: middle;\n",
       "    }\n",
       "\n",
       "    .dataframe tbody tr th {\n",
       "        vertical-align: top;\n",
       "    }\n",
       "\n",
       "    .dataframe thead th {\n",
       "        text-align: right;\n",
       "    }\n",
       "</style>\n",
       "<table border=\"1\" class=\"dataframe\">\n",
       "  <thead>\n",
       "    <tr style=\"text-align: right;\">\n",
       "      <th></th>\n",
       "      <th>age</th>\n",
       "      <th>job</th>\n",
       "      <th>marital</th>\n",
       "      <th>default</th>\n",
       "      <th>returned</th>\n",
       "      <th>loan</th>\n",
       "      <th>coupon_used_in_last6_month</th>\n",
       "      <th>coupon_used_in_last_month</th>\n",
       "      <th>flag</th>\n",
       "    </tr>\n",
       "    <tr>\n",
       "      <th>ID</th>\n",
       "      <th></th>\n",
       "      <th></th>\n",
       "      <th></th>\n",
       "      <th></th>\n",
       "      <th></th>\n",
       "      <th></th>\n",
       "      <th></th>\n",
       "      <th></th>\n",
       "      <th></th>\n",
       "    </tr>\n",
       "  </thead>\n",
       "  <tbody>\n",
       "    <tr>\n",
       "      <th>1</th>\n",
       "      <td>43</td>\n",
       "      <td>management</td>\n",
       "      <td>married</td>\n",
       "      <td>no</td>\n",
       "      <td>yes</td>\n",
       "      <td>no</td>\n",
       "      <td>2</td>\n",
       "      <td>0</td>\n",
       "      <td>0</td>\n",
       "    </tr>\n",
       "    <tr>\n",
       "      <th>2</th>\n",
       "      <td>42</td>\n",
       "      <td>technician</td>\n",
       "      <td>divorced</td>\n",
       "      <td>no</td>\n",
       "      <td>yes</td>\n",
       "      <td>no</td>\n",
       "      <td>1</td>\n",
       "      <td>1</td>\n",
       "      <td>0</td>\n",
       "    </tr>\n",
       "    <tr>\n",
       "      <th>3</th>\n",
       "      <td>47</td>\n",
       "      <td>admin.</td>\n",
       "      <td>married</td>\n",
       "      <td>no</td>\n",
       "      <td>yes</td>\n",
       "      <td>yes</td>\n",
       "      <td>2</td>\n",
       "      <td>0</td>\n",
       "      <td>0</td>\n",
       "    </tr>\n",
       "    <tr>\n",
       "      <th>4</th>\n",
       "      <td>28</td>\n",
       "      <td>management</td>\n",
       "      <td>single</td>\n",
       "      <td>no</td>\n",
       "      <td>yes</td>\n",
       "      <td>yes</td>\n",
       "      <td>2</td>\n",
       "      <td>0</td>\n",
       "      <td>0</td>\n",
       "    </tr>\n",
       "    <tr>\n",
       "      <th>5</th>\n",
       "      <td>42</td>\n",
       "      <td>technician</td>\n",
       "      <td>divorced</td>\n",
       "      <td>no</td>\n",
       "      <td>yes</td>\n",
       "      <td>no</td>\n",
       "      <td>5</td>\n",
       "      <td>0</td>\n",
       "      <td>0</td>\n",
       "    </tr>\n",
       "    <tr>\n",
       "      <th>...</th>\n",
       "      <td>...</td>\n",
       "      <td>...</td>\n",
       "      <td>...</td>\n",
       "      <td>...</td>\n",
       "      <td>...</td>\n",
       "      <td>...</td>\n",
       "      <td>...</td>\n",
       "      <td>...</td>\n",
       "      <td>...</td>\n",
       "    </tr>\n",
       "    <tr>\n",
       "      <th>25313</th>\n",
       "      <td>55</td>\n",
       "      <td>blue-collar</td>\n",
       "      <td>divorced</td>\n",
       "      <td>no</td>\n",
       "      <td>no</td>\n",
       "      <td>no</td>\n",
       "      <td>2</td>\n",
       "      <td>1</td>\n",
       "      <td>1</td>\n",
       "    </tr>\n",
       "    <tr>\n",
       "      <th>25314</th>\n",
       "      <td>52</td>\n",
       "      <td>services</td>\n",
       "      <td>married</td>\n",
       "      <td>no</td>\n",
       "      <td>no</td>\n",
       "      <td>yes</td>\n",
       "      <td>1</td>\n",
       "      <td>1</td>\n",
       "      <td>1</td>\n",
       "    </tr>\n",
       "    <tr>\n",
       "      <th>25315</th>\n",
       "      <td>35</td>\n",
       "      <td>blue-collar</td>\n",
       "      <td>divorced</td>\n",
       "      <td>no</td>\n",
       "      <td>yes</td>\n",
       "      <td>no</td>\n",
       "      <td>2</td>\n",
       "      <td>0</td>\n",
       "      <td>1</td>\n",
       "    </tr>\n",
       "    <tr>\n",
       "      <th>25316</th>\n",
       "      <td>37</td>\n",
       "      <td>entrepreneur</td>\n",
       "      <td>divorced</td>\n",
       "      <td>no</td>\n",
       "      <td>no</td>\n",
       "      <td>no</td>\n",
       "      <td>2</td>\n",
       "      <td>0</td>\n",
       "      <td>1</td>\n",
       "    </tr>\n",
       "    <tr>\n",
       "      <th>25317</th>\n",
       "      <td>52</td>\n",
       "      <td>management</td>\n",
       "      <td>married</td>\n",
       "      <td>no</td>\n",
       "      <td>no</td>\n",
       "      <td>no</td>\n",
       "      <td>3</td>\n",
       "      <td>0</td>\n",
       "      <td>1</td>\n",
       "    </tr>\n",
       "  </tbody>\n",
       "</table>\n",
       "<p>25317 rows × 9 columns</p>\n",
       "</div>"
      ],
      "text/plain": [
       "       age           job   marital default returned loan  \\\n",
       "ID                                                         \n",
       "1       43    management   married      no      yes   no   \n",
       "2       42    technician  divorced      no      yes   no   \n",
       "3       47        admin.   married      no      yes  yes   \n",
       "4       28    management    single      no      yes  yes   \n",
       "5       42    technician  divorced      no      yes   no   \n",
       "...    ...           ...       ...     ...      ...  ...   \n",
       "25313   55   blue-collar  divorced      no       no   no   \n",
       "25314   52      services   married      no       no  yes   \n",
       "25315   35   blue-collar  divorced      no      yes   no   \n",
       "25316   37  entrepreneur  divorced      no       no   no   \n",
       "25317   52    management   married      no       no   no   \n",
       "\n",
       "       coupon_used_in_last6_month  coupon_used_in_last_month  flag  \n",
       "ID                                                                  \n",
       "1                               2                          0     0  \n",
       "2                               1                          1     0  \n",
       "3                               2                          0     0  \n",
       "4                               2                          0     0  \n",
       "5                               5                          0     0  \n",
       "...                           ...                        ...   ...  \n",
       "25313                           2                          1     1  \n",
       "25314                           1                          1     1  \n",
       "25315                           2                          0     1  \n",
       "25316                           2                          0     1  \n",
       "25317                           3                          0     1  \n",
       "\n",
       "[25317 rows x 9 columns]"
      ]
     },
     "execution_count": 5,
     "metadata": {},
     "output_type": "execute_result"
    }
   ],
   "source": [
    "#重命名标志变量flag\n",
    "pdd.rename(columns={'coupon_ind':'flag'})"
   ]
  },
  {
   "cell_type": "code",
   "execution_count": 6,
   "id": "a9f517dc",
   "metadata": {},
   "outputs": [
    {
     "data": {
      "text/html": [
       "<div>\n",
       "<style scoped>\n",
       "    .dataframe tbody tr th:only-of-type {\n",
       "        vertical-align: middle;\n",
       "    }\n",
       "\n",
       "    .dataframe tbody tr th {\n",
       "        vertical-align: top;\n",
       "    }\n",
       "\n",
       "    .dataframe thead th {\n",
       "        text-align: right;\n",
       "    }\n",
       "</style>\n",
       "<table border=\"1\" class=\"dataframe\">\n",
       "  <thead>\n",
       "    <tr style=\"text-align: right;\">\n",
       "      <th></th>\n",
       "      <th>age</th>\n",
       "      <th>coupon_used_in_last6_month</th>\n",
       "      <th>coupon_used_in_last_month</th>\n",
       "      <th>coupon_ind</th>\n",
       "    </tr>\n",
       "  </thead>\n",
       "  <tbody>\n",
       "    <tr>\n",
       "      <th>count</th>\n",
       "      <td>25317.000000</td>\n",
       "      <td>25317.000000</td>\n",
       "      <td>25317.000000</td>\n",
       "      <td>25317.000000</td>\n",
       "    </tr>\n",
       "    <tr>\n",
       "      <th>mean</th>\n",
       "      <td>40.935379</td>\n",
       "      <td>2.772050</td>\n",
       "      <td>0.292847</td>\n",
       "      <td>0.116957</td>\n",
       "    </tr>\n",
       "    <tr>\n",
       "      <th>std</th>\n",
       "      <td>10.634289</td>\n",
       "      <td>3.136097</td>\n",
       "      <td>0.765498</td>\n",
       "      <td>0.321375</td>\n",
       "    </tr>\n",
       "    <tr>\n",
       "      <th>min</th>\n",
       "      <td>18.000000</td>\n",
       "      <td>1.000000</td>\n",
       "      <td>0.000000</td>\n",
       "      <td>0.000000</td>\n",
       "    </tr>\n",
       "    <tr>\n",
       "      <th>25%</th>\n",
       "      <td>33.000000</td>\n",
       "      <td>1.000000</td>\n",
       "      <td>0.000000</td>\n",
       "      <td>0.000000</td>\n",
       "    </tr>\n",
       "    <tr>\n",
       "      <th>50%</th>\n",
       "      <td>39.000000</td>\n",
       "      <td>2.000000</td>\n",
       "      <td>0.000000</td>\n",
       "      <td>0.000000</td>\n",
       "    </tr>\n",
       "    <tr>\n",
       "      <th>75%</th>\n",
       "      <td>48.000000</td>\n",
       "      <td>3.000000</td>\n",
       "      <td>0.000000</td>\n",
       "      <td>0.000000</td>\n",
       "    </tr>\n",
       "    <tr>\n",
       "      <th>max</th>\n",
       "      <td>95.000000</td>\n",
       "      <td>55.000000</td>\n",
       "      <td>15.000000</td>\n",
       "      <td>1.000000</td>\n",
       "    </tr>\n",
       "  </tbody>\n",
       "</table>\n",
       "</div>"
      ],
      "text/plain": [
       "                age  coupon_used_in_last6_month  coupon_used_in_last_month  \\\n",
       "count  25317.000000                25317.000000               25317.000000   \n",
       "mean      40.935379                    2.772050                   0.292847   \n",
       "std       10.634289                    3.136097                   0.765498   \n",
       "min       18.000000                    1.000000                   0.000000   \n",
       "25%       33.000000                    1.000000                   0.000000   \n",
       "50%       39.000000                    2.000000                   0.000000   \n",
       "75%       48.000000                    3.000000                   0.000000   \n",
       "max       95.000000                   55.000000                  15.000000   \n",
       "\n",
       "         coupon_ind  \n",
       "count  25317.000000  \n",
       "mean       0.116957  \n",
       "std        0.321375  \n",
       "min        0.000000  \n",
       "25%        0.000000  \n",
       "50%        0.000000  \n",
       "75%        0.000000  \n",
       "max        1.000000  "
      ]
     },
     "execution_count": 6,
     "metadata": {},
     "output_type": "execute_result"
    }
   ],
   "source": [
    "pdd.describe()"
   ]
  },
  {
   "cell_type": "markdown",
   "id": "42acb8dd",
   "metadata": {},
   "source": [
    "## 筛选数值型变量的离群值"
   ]
  },
  {
   "cell_type": "code",
   "execution_count": 7,
   "id": "6fea491c",
   "metadata": {},
   "outputs": [
    {
     "data": {
      "text/plain": [
       "<AxesSubplot:ylabel='age'>"
      ]
     },
     "execution_count": 7,
     "metadata": {},
     "output_type": "execute_result"
    },
    {
     "data": {
      "image/png": "[encoded data removed]",
      "text/plain": [
       "<Figure size 432x288 with 1 Axes>"
      ]
     },
     "metadata": {
      "needs_background": "light"
     },
     "output_type": "display_data"
    }
   ],
   "source": [
    "#清洗age的离群值\n",
    "sns.boxplot(y='age',data=pdd)"
   ]
  },
  {
   "cell_type": "code",
   "execution_count": 8,
   "id": "2c4c0a5d",
   "metadata": {},
   "outputs": [
    {
     "data": {
      "text/plain": [
       "70.5"
      ]
     },
     "execution_count": 8,
     "metadata": {},
     "output_type": "execute_result"
    }
   ],
   "source": [
    "#找到上限值\n",
    "diff = pdd.age.describe()['75%'] - pdd.age.describe()['25%']\n",
    "new_max = pdd.age.describe()['75%'] + 1.5 * diff\n",
    "new_max"
   ]
  },
  {
   "cell_type": "code",
   "execution_count": 9,
   "id": "11cf1a97",
   "metadata": {},
   "outputs": [
    {
     "data": {
      "text/plain": [
       "25033"
      ]
     },
     "execution_count": 9,
     "metadata": {},
     "output_type": "execute_result"
    }
   ],
   "source": [
    "#查看不超过上限值的数据个数\n",
    "pdd[pdd.age<new_max].shape[0]"
   ]
  },
  {
   "cell_type": "code",
   "execution_count": 10,
   "id": "ba3140ab",
   "metadata": {},
   "outputs": [
    {
     "data": {
      "text/plain": [
       "0.01121775881818541"
      ]
     },
     "execution_count": 10,
     "metadata": {},
     "output_type": "execute_result"
    }
   ],
   "source": [
    "#查看离群值占总体数据的百分比\n",
    "(pdd.shape[0]-pdd[pdd.age<=new_max].shape[0])/pdd.shape[0]"
   ]
  },
  {
   "cell_type": "code",
   "execution_count": 11,
   "id": "e4323c44",
   "metadata": {},
   "outputs": [],
   "source": [
    "#删除离群值\n",
    "pdd=pdd[pdd.age<new_max]"
   ]
  },
  {
   "cell_type": "code",
   "execution_count": 12,
   "id": "4cda9fa6",
   "metadata": {},
   "outputs": [
    {
     "data": {
      "text/plain": [
       "<AxesSubplot:ylabel='age'>"
      ]
     },
     "execution_count": 12,
     "metadata": {},
     "output_type": "execute_result"
    },
    {
     "data": {
      "image/png": "[encoded data removed]",
      "text/plain": [
       "<Figure size 432x288 with 1 Axes>"
      ]
     },
     "metadata": {
      "needs_background": "light"
     },
     "output_type": "display_data"
    }
   ],
   "source": [
    "sns.boxplot(y='age',data=pdd)"
   ]
  },
  {
   "cell_type": "markdown",
   "id": "5b55a042",
   "metadata": {},
   "source": [
    "### age离群值占总体的1.1%，故删除后影响不大"
   ]
  },
  {
   "cell_type": "code",
   "execution_count": 13,
   "id": "25f012e3",
   "metadata": {},
   "outputs": [
    {
     "data": {
      "text/plain": [
       "<AxesSubplot:ylabel='coupon_used_in_last6_month'>"
      ]
     },
     "execution_count": 13,
     "metadata": {},
     "output_type": "execute_result"
    },
    {
     "data": {
      "image/png": "[encoded data removed]",
      "text/plain": [
       "<Figure size 432x288 with 1 Axes>"
      ]
     },
     "metadata": {
      "needs_background": "light"
     },
     "output_type": "display_data"
    }
   ],
   "source": [
    "#清洗coupon_used_in_last6_month的离群值\n",
    "sns.boxplot(y='coupon_used_in_last6_month',data=pdd)"
   ]
  },
  {
   "cell_type": "code",
   "execution_count": 14,
   "id": "e39933b8",
   "metadata": {},
   "outputs": [
    {
     "data": {
      "text/plain": [
       "0.06822993648384133"
      ]
     },
     "execution_count": 14,
     "metadata": {},
     "output_type": "execute_result"
    }
   ],
   "source": [
    "diff = pdd.coupon_used_in_last6_month.describe()['75%'] - pdd.coupon_used_in_last6_month.describe()['25%']\n",
    "new_max = pdd.coupon_used_in_last6_month.describe()['75%'] + 1.5 * diff\n",
    "(pdd.shape[0]-pdd[pdd.coupon_used_in_last6_month<=new_max].shape[0])/pdd.shape[0]"
   ]
  },
  {
   "cell_type": "code",
   "execution_count": 15,
   "id": "5c852aa5",
   "metadata": {},
   "outputs": [
    {
     "data": {
      "text/plain": [
       "<AxesSubplot:ylabel='coupon_used_in_last6_month'>"
      ]
     },
     "execution_count": 15,
     "metadata": {},
     "output_type": "execute_result"
    },
    {
     "data": {
      "image/png": "[encoded data removed]",
      "text/plain": [
       "<Figure size 432x288 with 1 Axes>"
      ]
     },
     "metadata": {
      "needs_background": "light"
     },
     "output_type": "display_data"
    }
   ],
   "source": [
    "pdd=pdd[pdd.coupon_used_in_last6_month<new_max]\n",
    "sns.boxplot(y='coupon_used_in_last6_month',data=pdd)"
   ]
  },
  {
   "cell_type": "markdown",
   "id": "372dd16a",
   "metadata": {},
   "source": [
    "### coupon_used_in_last6_month离群值占总体的6.8%，故删除后影响不大"
   ]
  },
  {
   "cell_type": "code",
   "execution_count": 16,
   "id": "6821fb4e",
   "metadata": {},
   "outputs": [
    {
     "data": {
      "text/plain": [
       "<AxesSubplot:ylabel='coupon_used_in_last_month'>"
      ]
     },
     "execution_count": 16,
     "metadata": {},
     "output_type": "execute_result"
    },
    {
     "data": {
      "image/png": "[encoded data removed]",
      "text/plain": [
       "<Figure size 432x288 with 1 Axes>"
      ]
     },
     "metadata": {
      "needs_background": "light"
     },
     "output_type": "display_data"
    }
   ],
   "source": [
    "#清洗coupon_used_in_last_month的离群值\n",
    "sns.boxplot(y='coupon_used_in_last_month',data=pdd)"
   ]
  },
  {
   "cell_type": "code",
   "execution_count": 17,
   "id": "19b4fe5c",
   "metadata": {},
   "outputs": [
    {
     "data": {
      "text/plain": [
       "0.19176324869503672"
      ]
     },
     "execution_count": 17,
     "metadata": {},
     "output_type": "execute_result"
    }
   ],
   "source": [
    "pdd[pdd.coupon_used_in_last_month>0].shape[0]/pdd.shape[0]"
   ]
  },
  {
   "cell_type": "markdown",
   "id": "dca50c8a",
   "metadata": {},
   "source": [
    "### 可见上个月80%的客户都没使用优惠券"
   ]
  },
  {
   "cell_type": "code",
   "execution_count": 18,
   "id": "0fa2c6c6",
   "metadata": {},
   "outputs": [],
   "source": [
    "pdd_sample=pdd.copy()"
   ]
  },
  {
   "cell_type": "code",
   "execution_count": 19,
   "id": "ee9637c7",
   "metadata": {},
   "outputs": [],
   "source": [
    "#把job按收入分为高，中，低三个档次\n",
    "pdd_sample['job']=pdd_sample['job'].apply(lambda x:'high_income'if x=='management' or x=='admin.' or x=='entrepreneur'  else 'medium_income' if x=='technician' or x=='self-employed' or x=='blue-collar' or x=='services' else 'low_income' if x=='retired' or x=='student' or x=='housemaid' or x=='unemployed'  else 'unknow')   "
   ]
  },
  {
   "cell_type": "code",
   "execution_count": 20,
   "id": "95852d96",
   "metadata": {},
   "outputs": [
    {
     "data": {
      "text/plain": [
       "array(['high_income', 'medium_income', 'low_income', 'unknow'],\n",
       "      dtype=object)"
      ]
     },
     "execution_count": 20,
     "metadata": {},
     "output_type": "execute_result"
    }
   ],
   "source": [
    "#查看是否分类成功\n",
    "pdd_sample.job.unique()"
   ]
  },
  {
   "cell_type": "code",
   "execution_count": 21,
   "id": "5bae473a",
   "metadata": {},
   "outputs": [
    {
     "data": {
      "text/html": [
       "<div>\n",
       "<style scoped>\n",
       "    .dataframe tbody tr th:only-of-type {\n",
       "        vertical-align: middle;\n",
       "    }\n",
       "\n",
       "    .dataframe tbody tr th {\n",
       "        vertical-align: top;\n",
       "    }\n",
       "\n",
       "    .dataframe thead th {\n",
       "        text-align: right;\n",
       "    }\n",
       "</style>\n",
       "<table border=\"1\" class=\"dataframe\">\n",
       "  <thead>\n",
       "    <tr style=\"text-align: right;\">\n",
       "      <th></th>\n",
       "      <th>age</th>\n",
       "      <th>job</th>\n",
       "      <th>marital</th>\n",
       "      <th>default</th>\n",
       "      <th>returned</th>\n",
       "      <th>loan</th>\n",
       "      <th>coupon_used_in_last6_month</th>\n",
       "      <th>coupon_used_in_last_month</th>\n",
       "      <th>coupon_ind</th>\n",
       "    </tr>\n",
       "    <tr>\n",
       "      <th>ID</th>\n",
       "      <th></th>\n",
       "      <th></th>\n",
       "      <th></th>\n",
       "      <th></th>\n",
       "      <th></th>\n",
       "      <th></th>\n",
       "      <th></th>\n",
       "      <th></th>\n",
       "      <th></th>\n",
       "    </tr>\n",
       "  </thead>\n",
       "  <tbody>\n",
       "    <tr>\n",
       "      <th>1</th>\n",
       "      <td>43</td>\n",
       "      <td>high_income</td>\n",
       "      <td>married</td>\n",
       "      <td>no</td>\n",
       "      <td>yes</td>\n",
       "      <td>no</td>\n",
       "      <td>2</td>\n",
       "      <td>0</td>\n",
       "      <td>0</td>\n",
       "    </tr>\n",
       "    <tr>\n",
       "      <th>2</th>\n",
       "      <td>42</td>\n",
       "      <td>medium_income</td>\n",
       "      <td>divorced</td>\n",
       "      <td>no</td>\n",
       "      <td>yes</td>\n",
       "      <td>no</td>\n",
       "      <td>1</td>\n",
       "      <td>1</td>\n",
       "      <td>0</td>\n",
       "    </tr>\n",
       "    <tr>\n",
       "      <th>3</th>\n",
       "      <td>47</td>\n",
       "      <td>high_income</td>\n",
       "      <td>married</td>\n",
       "      <td>no</td>\n",
       "      <td>yes</td>\n",
       "      <td>yes</td>\n",
       "      <td>2</td>\n",
       "      <td>0</td>\n",
       "      <td>0</td>\n",
       "    </tr>\n",
       "    <tr>\n",
       "      <th>4</th>\n",
       "      <td>28</td>\n",
       "      <td>high_income</td>\n",
       "      <td>single</td>\n",
       "      <td>no</td>\n",
       "      <td>yes</td>\n",
       "      <td>yes</td>\n",
       "      <td>2</td>\n",
       "      <td>0</td>\n",
       "      <td>0</td>\n",
       "    </tr>\n",
       "    <tr>\n",
       "      <th>5</th>\n",
       "      <td>42</td>\n",
       "      <td>medium_income</td>\n",
       "      <td>divorced</td>\n",
       "      <td>no</td>\n",
       "      <td>yes</td>\n",
       "      <td>no</td>\n",
       "      <td>5</td>\n",
       "      <td>0</td>\n",
       "      <td>0</td>\n",
       "    </tr>\n",
       "  </tbody>\n",
       "</table>\n",
       "</div>"
      ],
      "text/plain": [
       "    age            job   marital default returned loan  \\\n",
       "ID                                                       \n",
       "1    43    high_income   married      no      yes   no   \n",
       "2    42  medium_income  divorced      no      yes   no   \n",
       "3    47    high_income   married      no      yes  yes   \n",
       "4    28    high_income    single      no      yes  yes   \n",
       "5    42  medium_income  divorced      no      yes   no   \n",
       "\n",
       "    coupon_used_in_last6_month  coupon_used_in_last_month  coupon_ind  \n",
       "ID                                                                     \n",
       "1                            2                          0           0  \n",
       "2                            1                          1           0  \n",
       "3                            2                          0           0  \n",
       "4                            2                          0           0  \n",
       "5                            5                          0           0  "
      ]
     },
     "execution_count": 21,
     "metadata": {},
     "output_type": "execute_result"
    }
   ],
   "source": [
    "pdd_sample.head()"
   ]
  },
  {
   "cell_type": "code",
   "execution_count": 22,
   "id": "7b649f54",
   "metadata": {},
   "outputs": [],
   "source": [
    "#生成哑变量\n",
    "pdd_sample=pd.get_dummies(pdd_sample)"
   ]
  },
  {
   "cell_type": "code",
   "execution_count": 23,
   "id": "7caeea55",
   "metadata": {},
   "outputs": [],
   "source": [
    "pdd_sample=pdd_sample.rename(columns={'coupon_ind':'flag'})"
   ]
  },
  {
   "cell_type": "code",
   "execution_count": 24,
   "id": "b6fccd16",
   "metadata": {},
   "outputs": [
    {
     "data": {
      "text/html": [
       "<div>\n",
       "<style scoped>\n",
       "    .dataframe tbody tr th:only-of-type {\n",
       "        vertical-align: middle;\n",
       "    }\n",
       "\n",
       "    .dataframe tbody tr th {\n",
       "        vertical-align: top;\n",
       "    }\n",
       "\n",
       "    .dataframe thead th {\n",
       "        text-align: right;\n",
       "    }\n",
       "</style>\n",
       "<table border=\"1\" class=\"dataframe\">\n",
       "  <thead>\n",
       "    <tr style=\"text-align: right;\">\n",
       "      <th></th>\n",
       "      <th>age</th>\n",
       "      <th>coupon_used_in_last6_month</th>\n",
       "      <th>coupon_used_in_last_month</th>\n",
       "      <th>flag</th>\n",
       "      <th>job_high_income</th>\n",
       "      <th>job_low_income</th>\n",
       "      <th>job_medium_income</th>\n",
       "      <th>job_unknow</th>\n",
       "      <th>marital_divorced</th>\n",
       "      <th>marital_married</th>\n",
       "      <th>marital_single</th>\n",
       "      <th>default_no</th>\n",
       "      <th>default_yes</th>\n",
       "      <th>returned_no</th>\n",
       "      <th>returned_yes</th>\n",
       "      <th>loan_no</th>\n",
       "      <th>loan_yes</th>\n",
       "    </tr>\n",
       "    <tr>\n",
       "      <th>ID</th>\n",
       "      <th></th>\n",
       "      <th></th>\n",
       "      <th></th>\n",
       "      <th></th>\n",
       "      <th></th>\n",
       "      <th></th>\n",
       "      <th></th>\n",
       "      <th></th>\n",
       "      <th></th>\n",
       "      <th></th>\n",
       "      <th></th>\n",
       "      <th></th>\n",
       "      <th></th>\n",
       "      <th></th>\n",
       "      <th></th>\n",
       "      <th></th>\n",
       "      <th></th>\n",
       "    </tr>\n",
       "  </thead>\n",
       "  <tbody>\n",
       "    <tr>\n",
       "      <th>1</th>\n",
       "      <td>43</td>\n",
       "      <td>2</td>\n",
       "      <td>0</td>\n",
       "      <td>0</td>\n",
       "      <td>1</td>\n",
       "      <td>0</td>\n",
       "      <td>0</td>\n",
       "      <td>0</td>\n",
       "      <td>0</td>\n",
       "      <td>1</td>\n",
       "      <td>0</td>\n",
       "      <td>1</td>\n",
       "      <td>0</td>\n",
       "      <td>0</td>\n",
       "      <td>1</td>\n",
       "      <td>1</td>\n",
       "      <td>0</td>\n",
       "    </tr>\n",
       "    <tr>\n",
       "      <th>2</th>\n",
       "      <td>42</td>\n",
       "      <td>1</td>\n",
       "      <td>1</td>\n",
       "      <td>0</td>\n",
       "      <td>0</td>\n",
       "      <td>0</td>\n",
       "      <td>1</td>\n",
       "      <td>0</td>\n",
       "      <td>1</td>\n",
       "      <td>0</td>\n",
       "      <td>0</td>\n",
       "      <td>1</td>\n",
       "      <td>0</td>\n",
       "      <td>0</td>\n",
       "      <td>1</td>\n",
       "      <td>1</td>\n",
       "      <td>0</td>\n",
       "    </tr>\n",
       "    <tr>\n",
       "      <th>3</th>\n",
       "      <td>47</td>\n",
       "      <td>2</td>\n",
       "      <td>0</td>\n",
       "      <td>0</td>\n",
       "      <td>1</td>\n",
       "      <td>0</td>\n",
       "      <td>0</td>\n",
       "      <td>0</td>\n",
       "      <td>0</td>\n",
       "      <td>1</td>\n",
       "      <td>0</td>\n",
       "      <td>1</td>\n",
       "      <td>0</td>\n",
       "      <td>0</td>\n",
       "      <td>1</td>\n",
       "      <td>0</td>\n",
       "      <td>1</td>\n",
       "    </tr>\n",
       "    <tr>\n",
       "      <th>4</th>\n",
       "      <td>28</td>\n",
       "      <td>2</td>\n",
       "      <td>0</td>\n",
       "      <td>0</td>\n",
       "      <td>1</td>\n",
       "      <td>0</td>\n",
       "      <td>0</td>\n",
       "      <td>0</td>\n",
       "      <td>0</td>\n",
       "      <td>0</td>\n",
       "      <td>1</td>\n",
       "      <td>1</td>\n",
       "      <td>0</td>\n",
       "      <td>0</td>\n",
       "      <td>1</td>\n",
       "      <td>0</td>\n",
       "      <td>1</td>\n",
       "    </tr>\n",
       "    <tr>\n",
       "      <th>5</th>\n",
       "      <td>42</td>\n",
       "      <td>5</td>\n",
       "      <td>0</td>\n",
       "      <td>0</td>\n",
       "      <td>0</td>\n",
       "      <td>0</td>\n",
       "      <td>1</td>\n",
       "      <td>0</td>\n",
       "      <td>1</td>\n",
       "      <td>0</td>\n",
       "      <td>0</td>\n",
       "      <td>1</td>\n",
       "      <td>0</td>\n",
       "      <td>0</td>\n",
       "      <td>1</td>\n",
       "      <td>1</td>\n",
       "      <td>0</td>\n",
       "    </tr>\n",
       "  </tbody>\n",
       "</table>\n",
       "</div>"
      ],
      "text/plain": [
       "    age  coupon_used_in_last6_month  coupon_used_in_last_month  flag  \\\n",
       "ID                                                                     \n",
       "1    43                           2                          0     0   \n",
       "2    42                           1                          1     0   \n",
       "3    47                           2                          0     0   \n",
       "4    28                           2                          0     0   \n",
       "5    42                           5                          0     0   \n",
       "\n",
       "    job_high_income  job_low_income  job_medium_income  job_unknow  \\\n",
       "ID                                                                   \n",
       "1                 1               0                  0           0   \n",
       "2                 0               0                  1           0   \n",
       "3                 1               0                  0           0   \n",
       "4                 1               0                  0           0   \n",
       "5                 0               0                  1           0   \n",
       "\n",
       "    marital_divorced  marital_married  marital_single  default_no  \\\n",
       "ID                                                                  \n",
       "1                  0                1               0           1   \n",
       "2                  1                0               0           1   \n",
       "3                  0                1               0           1   \n",
       "4                  0                0               1           1   \n",
       "5                  1                0               0           1   \n",
       "\n",
       "    default_yes  returned_no  returned_yes  loan_no  loan_yes  \n",
       "ID                                                             \n",
       "1             0            0             1        1         0  \n",
       "2             0            0             1        1         0  \n",
       "3             0            0             1        0         1  \n",
       "4             0            0             1        0         1  \n",
       "5             0            0             1        1         0  "
      ]
     },
     "execution_count": 24,
     "metadata": {},
     "output_type": "execute_result"
    }
   ],
   "source": [
    "pdd_sample.head()"
   ]
  },
  {
   "cell_type": "code",
   "execution_count": 25,
   "id": "745ac641",
   "metadata": {},
   "outputs": [],
   "source": [
    "#删除多余的列\n",
    "pdd_sample.drop(['default_no','returned_no','loan_no'],axis=1 ,inplace=True)"
   ]
  },
  {
   "cell_type": "code",
   "execution_count": 56,
   "id": "af217746",
   "metadata": {},
   "outputs": [
    {
     "data": {
      "text/html": [
       "<div>\n",
       "<style scoped>\n",
       "    .dataframe tbody tr th:only-of-type {\n",
       "        vertical-align: middle;\n",
       "    }\n",
       "\n",
       "    .dataframe tbody tr th {\n",
       "        vertical-align: top;\n",
       "    }\n",
       "\n",
       "    .dataframe thead th {\n",
       "        text-align: right;\n",
       "    }\n",
       "</style>\n",
       "<table border=\"1\" class=\"dataframe\">\n",
       "  <thead>\n",
       "    <tr style=\"text-align: right;\">\n",
       "      <th></th>\n",
       "      <th>flag</th>\n",
       "    </tr>\n",
       "  </thead>\n",
       "  <tbody>\n",
       "    <tr>\n",
       "      <th>flag</th>\n",
       "      <td>1.000000</td>\n",
       "    </tr>\n",
       "    <tr>\n",
       "      <th>coupon_used_in_last_month</th>\n",
       "      <td>0.131191</td>\n",
       "    </tr>\n",
       "    <tr>\n",
       "      <th>job_low_income</th>\n",
       "      <td>0.067638</td>\n",
       "    </tr>\n",
       "    <tr>\n",
       "      <th>marital_single</th>\n",
       "      <td>0.066573</td>\n",
       "    </tr>\n",
       "    <tr>\n",
       "      <th>job_high_income</th>\n",
       "      <td>0.030620</td>\n",
       "    </tr>\n",
       "    <tr>\n",
       "      <th>job_unknow</th>\n",
       "      <td>0.003568</td>\n",
       "    </tr>\n",
       "    <tr>\n",
       "      <th>marital_divorced</th>\n",
       "      <td>-0.004006</td>\n",
       "    </tr>\n",
       "    <tr>\n",
       "      <th>age</th>\n",
       "      <td>-0.005568</td>\n",
       "    </tr>\n",
       "    <tr>\n",
       "      <th>default_yes</th>\n",
       "      <td>-0.023721</td>\n",
       "    </tr>\n",
       "    <tr>\n",
       "      <th>marital_married</th>\n",
       "      <td>-0.058883</td>\n",
       "    </tr>\n",
       "    <tr>\n",
       "      <th>coupon_used_in_last6_month</th>\n",
       "      <td>-0.061988</td>\n",
       "    </tr>\n",
       "    <tr>\n",
       "      <th>loan_yes</th>\n",
       "      <td>-0.063270</td>\n",
       "    </tr>\n",
       "    <tr>\n",
       "      <th>job_medium_income</th>\n",
       "      <td>-0.073840</td>\n",
       "    </tr>\n",
       "    <tr>\n",
       "      <th>returned_yes</th>\n",
       "      <td>-0.143932</td>\n",
       "    </tr>\n",
       "  </tbody>\n",
       "</table>\n",
       "</div>"
      ],
      "text/plain": [
       "                                flag\n",
       "flag                        1.000000\n",
       "coupon_used_in_last_month   0.131191\n",
       "job_low_income              0.067638\n",
       "marital_single              0.066573\n",
       "job_high_income             0.030620\n",
       "job_unknow                  0.003568\n",
       "marital_divorced           -0.004006\n",
       "age                        -0.005568\n",
       "default_yes                -0.023721\n",
       "marital_married            -0.058883\n",
       "coupon_used_in_last6_month -0.061988\n",
       "loan_yes                   -0.063270\n",
       "job_medium_income          -0.073840\n",
       "returned_yes               -0.143932"
      ]
     },
     "execution_count": 56,
     "metadata": {},
     "output_type": "execute_result"
    }
   ],
   "source": [
    "#单变量相关性分析\n",
    "pdd_sample.corr()[['flag']].sort_values('flag',ascending=False)"
   ]
  },
  {
   "cell_type": "code",
   "execution_count": 59,
   "id": "90cb0850",
   "metadata": {},
   "outputs": [
    {
     "data": {
      "text/plain": [
       "<AxesSubplot:>"
      ]
     },
     "execution_count": 59,
     "metadata": {},
     "output_type": "execute_result"
    },
    {
     "data": {
      "image/png": "[encoded data removed]",
      "text/plain": [
       "<Figure size 432x288 with 2 Axes>"
      ]
     },
     "metadata": {
      "needs_background": "light"
     },
     "output_type": "display_data"
    }
   ],
   "source": [
    "q1=['flag','coupon_used_in_last_month','job_low_income','marital_single','returned_yes']\n",
    "sns.heatmap(pdd_sample[q1].corr())"
   ]
  },
  {
   "cell_type": "code",
   "execution_count": 28,
   "id": "02d44b06",
   "metadata": {},
   "outputs": [
    {
     "data": {
      "text/html": [
       "<div>\n",
       "<style scoped>\n",
       "    .dataframe tbody tr th:only-of-type {\n",
       "        vertical-align: middle;\n",
       "    }\n",
       "\n",
       "    .dataframe tbody tr th {\n",
       "        vertical-align: top;\n",
       "    }\n",
       "\n",
       "    .dataframe thead th {\n",
       "        text-align: right;\n",
       "    }\n",
       "</style>\n",
       "<table border=\"1\" class=\"dataframe\">\n",
       "  <thead>\n",
       "    <tr style=\"text-align: right;\">\n",
       "      <th></th>\n",
       "      <th>age</th>\n",
       "      <th>coupon_used_in_last6_month</th>\n",
       "      <th>coupon_used_in_last_month</th>\n",
       "      <th>flag</th>\n",
       "      <th>job_high_income</th>\n",
       "      <th>job_low_income</th>\n",
       "      <th>job_medium_income</th>\n",
       "      <th>job_unknow</th>\n",
       "      <th>marital_divorced</th>\n",
       "      <th>marital_married</th>\n",
       "      <th>marital_single</th>\n",
       "      <th>default_yes</th>\n",
       "      <th>returned_yes</th>\n",
       "      <th>loan_yes</th>\n",
       "    </tr>\n",
       "    <tr>\n",
       "      <th>ID</th>\n",
       "      <th></th>\n",
       "      <th></th>\n",
       "      <th></th>\n",
       "      <th></th>\n",
       "      <th></th>\n",
       "      <th></th>\n",
       "      <th></th>\n",
       "      <th></th>\n",
       "      <th></th>\n",
       "      <th></th>\n",
       "      <th></th>\n",
       "      <th></th>\n",
       "      <th></th>\n",
       "      <th></th>\n",
       "    </tr>\n",
       "  </thead>\n",
       "  <tbody>\n",
       "    <tr>\n",
       "      <th>1</th>\n",
       "      <td>43</td>\n",
       "      <td>2</td>\n",
       "      <td>0</td>\n",
       "      <td>0</td>\n",
       "      <td>1</td>\n",
       "      <td>0</td>\n",
       "      <td>0</td>\n",
       "      <td>0</td>\n",
       "      <td>0</td>\n",
       "      <td>1</td>\n",
       "      <td>0</td>\n",
       "      <td>0</td>\n",
       "      <td>1</td>\n",
       "      <td>0</td>\n",
       "    </tr>\n",
       "    <tr>\n",
       "      <th>2</th>\n",
       "      <td>42</td>\n",
       "      <td>1</td>\n",
       "      <td>1</td>\n",
       "      <td>0</td>\n",
       "      <td>0</td>\n",
       "      <td>0</td>\n",
       "      <td>1</td>\n",
       "      <td>0</td>\n",
       "      <td>1</td>\n",
       "      <td>0</td>\n",
       "      <td>0</td>\n",
       "      <td>0</td>\n",
       "      <td>1</td>\n",
       "      <td>0</td>\n",
       "    </tr>\n",
       "    <tr>\n",
       "      <th>3</th>\n",
       "      <td>47</td>\n",
       "      <td>2</td>\n",
       "      <td>0</td>\n",
       "      <td>0</td>\n",
       "      <td>1</td>\n",
       "      <td>0</td>\n",
       "      <td>0</td>\n",
       "      <td>0</td>\n",
       "      <td>0</td>\n",
       "      <td>1</td>\n",
       "      <td>0</td>\n",
       "      <td>0</td>\n",
       "      <td>1</td>\n",
       "      <td>1</td>\n",
       "    </tr>\n",
       "    <tr>\n",
       "      <th>4</th>\n",
       "      <td>28</td>\n",
       "      <td>2</td>\n",
       "      <td>0</td>\n",
       "      <td>0</td>\n",
       "      <td>1</td>\n",
       "      <td>0</td>\n",
       "      <td>0</td>\n",
       "      <td>0</td>\n",
       "      <td>0</td>\n",
       "      <td>0</td>\n",
       "      <td>1</td>\n",
       "      <td>0</td>\n",
       "      <td>1</td>\n",
       "      <td>1</td>\n",
       "    </tr>\n",
       "    <tr>\n",
       "      <th>5</th>\n",
       "      <td>42</td>\n",
       "      <td>5</td>\n",
       "      <td>0</td>\n",
       "      <td>0</td>\n",
       "      <td>0</td>\n",
       "      <td>0</td>\n",
       "      <td>1</td>\n",
       "      <td>0</td>\n",
       "      <td>1</td>\n",
       "      <td>0</td>\n",
       "      <td>0</td>\n",
       "      <td>0</td>\n",
       "      <td>1</td>\n",
       "      <td>0</td>\n",
       "    </tr>\n",
       "    <tr>\n",
       "      <th>...</th>\n",
       "      <td>...</td>\n",
       "      <td>...</td>\n",
       "      <td>...</td>\n",
       "      <td>...</td>\n",
       "      <td>...</td>\n",
       "      <td>...</td>\n",
       "      <td>...</td>\n",
       "      <td>...</td>\n",
       "      <td>...</td>\n",
       "      <td>...</td>\n",
       "      <td>...</td>\n",
       "      <td>...</td>\n",
       "      <td>...</td>\n",
       "      <td>...</td>\n",
       "    </tr>\n",
       "    <tr>\n",
       "      <th>1118</th>\n",
       "      <td>53</td>\n",
       "      <td>4</td>\n",
       "      <td>0</td>\n",
       "      <td>0</td>\n",
       "      <td>0</td>\n",
       "      <td>0</td>\n",
       "      <td>1</td>\n",
       "      <td>0</td>\n",
       "      <td>0</td>\n",
       "      <td>1</td>\n",
       "      <td>0</td>\n",
       "      <td>0</td>\n",
       "      <td>1</td>\n",
       "      <td>0</td>\n",
       "    </tr>\n",
       "    <tr>\n",
       "      <th>1119</th>\n",
       "      <td>65</td>\n",
       "      <td>2</td>\n",
       "      <td>0</td>\n",
       "      <td>0</td>\n",
       "      <td>0</td>\n",
       "      <td>1</td>\n",
       "      <td>0</td>\n",
       "      <td>0</td>\n",
       "      <td>1</td>\n",
       "      <td>0</td>\n",
       "      <td>0</td>\n",
       "      <td>0</td>\n",
       "      <td>0</td>\n",
       "      <td>0</td>\n",
       "    </tr>\n",
       "    <tr>\n",
       "      <th>1120</th>\n",
       "      <td>33</td>\n",
       "      <td>2</td>\n",
       "      <td>0</td>\n",
       "      <td>0</td>\n",
       "      <td>0</td>\n",
       "      <td>0</td>\n",
       "      <td>1</td>\n",
       "      <td>0</td>\n",
       "      <td>0</td>\n",
       "      <td>1</td>\n",
       "      <td>0</td>\n",
       "      <td>0</td>\n",
       "      <td>1</td>\n",
       "      <td>0</td>\n",
       "    </tr>\n",
       "    <tr>\n",
       "      <th>1121</th>\n",
       "      <td>52</td>\n",
       "      <td>2</td>\n",
       "      <td>0</td>\n",
       "      <td>0</td>\n",
       "      <td>0</td>\n",
       "      <td>0</td>\n",
       "      <td>1</td>\n",
       "      <td>0</td>\n",
       "      <td>0</td>\n",
       "      <td>1</td>\n",
       "      <td>0</td>\n",
       "      <td>0</td>\n",
       "      <td>0</td>\n",
       "      <td>0</td>\n",
       "    </tr>\n",
       "    <tr>\n",
       "      <th>1122</th>\n",
       "      <td>22</td>\n",
       "      <td>1</td>\n",
       "      <td>0</td>\n",
       "      <td>0</td>\n",
       "      <td>1</td>\n",
       "      <td>0</td>\n",
       "      <td>0</td>\n",
       "      <td>0</td>\n",
       "      <td>0</td>\n",
       "      <td>0</td>\n",
       "      <td>1</td>\n",
       "      <td>0</td>\n",
       "      <td>1</td>\n",
       "      <td>0</td>\n",
       "    </tr>\n",
       "  </tbody>\n",
       "</table>\n",
       "<p>1000 rows × 14 columns</p>\n",
       "</div>"
      ],
      "text/plain": [
       "      age  coupon_used_in_last6_month  coupon_used_in_last_month  flag  \\\n",
       "ID                                                                       \n",
       "1      43                           2                          0     0   \n",
       "2      42                           1                          1     0   \n",
       "3      47                           2                          0     0   \n",
       "4      28                           2                          0     0   \n",
       "5      42                           5                          0     0   \n",
       "...   ...                         ...                        ...   ...   \n",
       "1118   53                           4                          0     0   \n",
       "1119   65                           2                          0     0   \n",
       "1120   33                           2                          0     0   \n",
       "1121   52                           2                          0     0   \n",
       "1122   22                           1                          0     0   \n",
       "\n",
       "      job_high_income  job_low_income  job_medium_income  job_unknow  \\\n",
       "ID                                                                     \n",
       "1                   1               0                  0           0   \n",
       "2                   0               0                  1           0   \n",
       "3                   1               0                  0           0   \n",
       "4                   1               0                  0           0   \n",
       "5                   0               0                  1           0   \n",
       "...               ...             ...                ...         ...   \n",
       "1118                0               0                  1           0   \n",
       "1119                0               1                  0           0   \n",
       "1120                0               0                  1           0   \n",
       "1121                0               0                  1           0   \n",
       "1122                1               0                  0           0   \n",
       "\n",
       "      marital_divorced  marital_married  marital_single  default_yes  \\\n",
       "ID                                                                     \n",
       "1                    0                1               0            0   \n",
       "2                    1                0               0            0   \n",
       "3                    0                1               0            0   \n",
       "4                    0                0               1            0   \n",
       "5                    1                0               0            0   \n",
       "...                ...              ...             ...          ...   \n",
       "1118                 0                1               0            0   \n",
       "1119                 1                0               0            0   \n",
       "1120                 0                1               0            0   \n",
       "1121                 0                1               0            0   \n",
       "1122                 0                0               1            0   \n",
       "\n",
       "      returned_yes  loan_yes  \n",
       "ID                            \n",
       "1                1         0  \n",
       "2                1         0  \n",
       "3                1         1  \n",
       "4                1         1  \n",
       "5                1         0  \n",
       "...            ...       ...  \n",
       "1118             1         0  \n",
       "1119             0         0  \n",
       "1120             1         0  \n",
       "1121             0         0  \n",
       "1122             1         0  \n",
       "\n",
       "[1000 rows x 14 columns]"
      ]
     },
     "execution_count": 28,
     "metadata": {},
     "output_type": "execute_result"
    }
   ],
   "source": [
    "pdd_sample.head(1000)"
   ]
  },
  {
   "cell_type": "code",
   "execution_count": 60,
   "id": "34fb52c4",
   "metadata": {},
   "outputs": [],
   "source": [
    "pdd1=pdd_sample[['coupon_used_in_last6_month','coupon_used_in_last_month','age','flag','returned_yes']]"
   ]
  },
  {
   "cell_type": "code",
   "execution_count": 61,
   "id": "2386303d",
   "metadata": {},
   "outputs": [
    {
     "data": {
      "text/plain": [
       "<seaborn.axisgrid.PairGrid at 0x1dcf1da6ca0>"
      ]
     },
     "execution_count": 61,
     "metadata": {},
     "output_type": "execute_result"
    },
    {
     "data": {
      "image/png": "[encoded data removed]",
      "text/plain": [
       "<Figure size 762.375x720 with 20 Axes>"
      ]
     },
     "metadata": {
      "needs_background": "light"
     },
     "output_type": "display_data"
    }
   ],
   "source": [
    "sns.pairplot(pdd1,hue='flag')"
   ]
  },
  {
   "cell_type": "code",
   "execution_count": 71,
   "id": "287e1fcd",
   "metadata": {},
   "outputs": [
    {
     "data": {
      "image/png": "[encoded data removed]",
      "text/plain": [
       "<Figure size 1080x1080 with 4 Axes>"
      ]
     },
     "metadata": {
      "needs_background": "light"
     },
     "output_type": "display_data"
    }
   ],
   "source": [
    "plt.figure(figsize=(15,15))\n",
    "for column_index,column in enumerate(pdd1):\n",
    "    if column=='flag':\n",
    "        continue\n",
    "    plt.subplot(3,3,column_index+1)\n",
    "    sns.violinplot(x='flag',y=column,data=pdd1)"
   ]
  },
  {
   "cell_type": "code",
   "execution_count": 72,
   "id": "1e9ca602",
   "metadata": {},
   "outputs": [
    {
     "data": {
      "text/plain": [
       "0    0.880651\n",
       "1    0.119349\n",
       "Name: flag, dtype: float64"
      ]
     },
     "execution_count": 72,
     "metadata": {},
     "output_type": "execute_result"
    }
   ],
   "source": [
    "#统计使用优惠券的比列\n",
    "#样本数据很不均匀\n",
    "pdd_sample.flag.value_counts(1)"
   ]
  },
  {
   "cell_type": "markdown",
   "id": "728941f2",
   "metadata": {},
   "source": [
    "### 使用优惠券的比例只达到了11%"
   ]
  },
  {
   "cell_type": "code",
   "execution_count": 73,
   "id": "a8d39ecb",
   "metadata": {},
   "outputs": [
    {
     "data": {
      "text/html": [
       "<div>\n",
       "<style scoped>\n",
       "    .dataframe tbody tr th:only-of-type {\n",
       "        vertical-align: middle;\n",
       "    }\n",
       "\n",
       "    .dataframe tbody tr th {\n",
       "        vertical-align: top;\n",
       "    }\n",
       "\n",
       "    .dataframe thead th {\n",
       "        text-align: right;\n",
       "    }\n",
       "</style>\n",
       "<table border=\"1\" class=\"dataframe\">\n",
       "  <thead>\n",
       "    <tr style=\"text-align: right;\">\n",
       "      <th></th>\n",
       "      <th>age</th>\n",
       "      <th>coupon_used_in_last6_month</th>\n",
       "      <th>coupon_used_in_last_month</th>\n",
       "      <th>job_high_income</th>\n",
       "      <th>job_low_income</th>\n",
       "      <th>job_medium_income</th>\n",
       "      <th>job_unknow</th>\n",
       "      <th>marital_divorced</th>\n",
       "      <th>marital_married</th>\n",
       "      <th>marital_single</th>\n",
       "      <th>default_yes</th>\n",
       "      <th>returned_yes</th>\n",
       "      <th>loan_yes</th>\n",
       "    </tr>\n",
       "    <tr>\n",
       "      <th>flag</th>\n",
       "      <th></th>\n",
       "      <th></th>\n",
       "      <th></th>\n",
       "      <th></th>\n",
       "      <th></th>\n",
       "      <th></th>\n",
       "      <th></th>\n",
       "      <th></th>\n",
       "      <th></th>\n",
       "      <th></th>\n",
       "      <th></th>\n",
       "      <th></th>\n",
       "      <th></th>\n",
       "    </tr>\n",
       "  </thead>\n",
       "  <tbody>\n",
       "    <tr>\n",
       "      <th>0</th>\n",
       "      <td>40.476843</td>\n",
       "      <td>2.034609</td>\n",
       "      <td>0.254219</td>\n",
       "      <td>0.354229</td>\n",
       "      <td>0.111362</td>\n",
       "      <td>0.528581</td>\n",
       "      <td>0.005827</td>\n",
       "      <td>0.115883</td>\n",
       "      <td>0.606188</td>\n",
       "      <td>0.277928</td>\n",
       "      <td>0.018435</td>\n",
       "      <td>0.591822</td>\n",
       "      <td>0.16958</td>\n",
       "    </tr>\n",
       "    <tr>\n",
       "      <th>1</th>\n",
       "      <td>40.304670</td>\n",
       "      <td>1.816901</td>\n",
       "      <td>0.534099</td>\n",
       "      <td>0.399555</td>\n",
       "      <td>0.179021</td>\n",
       "      <td>0.414752</td>\n",
       "      <td>0.006672</td>\n",
       "      <td>0.111935</td>\n",
       "      <td>0.517050</td>\n",
       "      <td>0.371016</td>\n",
       "      <td>0.008895</td>\n",
       "      <td>0.371757</td>\n",
       "      <td>0.09785</td>\n",
       "    </tr>\n",
       "  </tbody>\n",
       "</table>\n",
       "</div>"
      ],
      "text/plain": [
       "            age  coupon_used_in_last6_month  coupon_used_in_last_month  \\\n",
       "flag                                                                     \n",
       "0     40.476843                    2.034609                   0.254219   \n",
       "1     40.304670                    1.816901                   0.534099   \n",
       "\n",
       "      job_high_income  job_low_income  job_medium_income  job_unknow  \\\n",
       "flag                                                                   \n",
       "0            0.354229        0.111362           0.528581    0.005827   \n",
       "1            0.399555        0.179021           0.414752    0.006672   \n",
       "\n",
       "      marital_divorced  marital_married  marital_single  default_yes  \\\n",
       "flag                                                                   \n",
       "0             0.115883         0.606188        0.277928     0.018435   \n",
       "1             0.111935         0.517050        0.371016     0.008895   \n",
       "\n",
       "      returned_yes  loan_yes  \n",
       "flag                          \n",
       "0         0.591822   0.16958  \n",
       "1         0.371757   0.09785  "
      ]
     },
     "execution_count": 73,
     "metadata": {},
     "output_type": "execute_result"
    }
   ],
   "source": [
    "summary=pdd_sample.groupby('flag')\n",
    "summary.mean()"
   ]
  },
  {
   "cell_type": "code",
   "execution_count": 75,
   "id": "7bcafbe5",
   "metadata": {},
   "outputs": [
    {
     "data": {
      "text/plain": [
       "<AxesSubplot:xlabel='default_yes', ylabel='count'>"
      ]
     },
     "execution_count": 75,
     "metadata": {},
     "output_type": "execute_result"
    },
    {
     "data": {
      "image/png": "[encoded data removed]",
      "text/plain": [
       "<Figure size 432x288 with 1 Axes>"
      ]
     },
     "metadata": {
      "needs_background": "light"
     },
     "output_type": "display_data"
    }
   ],
   "source": [
    "#单变量分析\n",
    "#统计default变量对优惠券使用情况的影响\n",
    "sns.countplot(x='default_yes',hue='flag',data=pdd_sample)"
   ]
  },
  {
   "cell_type": "code",
   "execution_count": 76,
   "id": "e4b22428",
   "metadata": {},
   "outputs": [
    {
     "data": {
      "text/plain": [
       "<AxesSubplot:xlabel='returned_yes', ylabel='count'>"
      ]
     },
     "execution_count": 76,
     "metadata": {},
     "output_type": "execute_result"
    },
    {
     "data": {
      "image/png": "[encoded data removed]",
      "text/plain": [
       "<Figure size 432x288 with 1 Axes>"
      ]
     },
     "metadata": {
      "needs_background": "light"
     },
     "output_type": "display_data"
    }
   ],
   "source": [
    "#单变量分析\n",
    "#统计'returned变量对优惠券使用情况的影响\n",
    "sns.countplot(x='returned_yes',hue='flag',data=pdd_sample)"
   ]
  },
  {
   "cell_type": "code",
   "execution_count": 77,
   "id": "b69f913b",
   "metadata": {},
   "outputs": [
    {
     "data": {
      "text/plain": [
       "<AxesSubplot:xlabel='loan_yes', ylabel='count'>"
      ]
     },
     "execution_count": 77,
     "metadata": {},
     "output_type": "execute_result"
    },
    {
     "data": {
      "image/png": "[encoded data removed]",
      "text/plain": [
       "<Figure size 432x288 with 1 Axes>"
      ]
     },
     "metadata": {
      "needs_background": "light"
     },
     "output_type": "display_data"
    }
   ],
   "source": [
    "#单变量分析\n",
    "#统计loan变量对优惠券使用情况的影响\n",
    "sns.countplot(x='loan_yes',hue='flag',data=pdd_sample)"
   ]
  },
  {
   "cell_type": "markdown",
   "id": "e5b8a76d",
   "metadata": {},
   "source": [
    "是否退货对，客户是否使用优惠券影响不大，不过没有过退货的客户使用优惠券的人数略大于有过退货的客户\n",
    "不使用信用卡付费的人比使用信用卡付费的人，更加倾向于用优惠券"
   ]
  },
  {
   "cell_type": "markdown",
   "id": "0caf99e0",
   "metadata": {},
   "source": [
    "# 建立逻辑回归模型"
   ]
  },
  {
   "cell_type": "code",
   "execution_count": 114,
   "id": "813ccd56",
   "metadata": {},
   "outputs": [],
   "source": [
    "y=pdd_sample['flag']\n",
    "x=pdd_sample[['coupon_used_in_last_month','job_low_income','marital_single','returned_yes','loan_yes']]"
   ]
  },
  {
   "cell_type": "code",
   "execution_count": 133,
   "id": "51fa23a8",
   "metadata": {},
   "outputs": [],
   "source": [
    "#划分训练集合和测试集\n",
    "from sklearn.model_selection import train_test_split\n",
    "x_train,x_test,y_train,y_test=train_test_split(x,y,test_size=0.1,random_state=100)"
   ]
  },
  {
   "cell_type": "code",
   "execution_count": 134,
   "id": "29cb0c00",
   "metadata": {},
   "outputs": [
    {
     "data": {
      "text/plain": [
       "LogisticRegression()"
      ]
     },
     "execution_count": 134,
     "metadata": {},
     "output_type": "execute_result"
    }
   ],
   "source": [
    "from sklearn import linear_model\n",
    "lr=linear_model.LogisticRegression()\n",
    "lr.fit(x_train,y_train)"
   ]
  },
  {
   "cell_type": "code",
   "execution_count": 135,
   "id": "0b338d60",
   "metadata": {},
   "outputs": [
    {
     "data": {
      "text/plain": [
       "array([-1.82992469])"
      ]
     },
     "execution_count": 135,
     "metadata": {},
     "output_type": "execute_result"
    }
   ],
   "source": [
    "lr.intercept_"
   ]
  },
  {
   "cell_type": "code",
   "execution_count": 136,
   "id": "ef339329",
   "metadata": {},
   "outputs": [
    {
     "data": {
      "text/plain": [
       "array([[ 0.47743871,  0.29055301,  0.37719595, -0.91037595, -0.54102627]])"
      ]
     },
     "execution_count": 136,
     "metadata": {},
     "output_type": "execute_result"
    }
   ],
   "source": [
    "lr.coef_"
   ]
  },
  {
   "cell_type": "code",
   "execution_count": 137,
   "id": "dd6142eb",
   "metadata": {},
   "outputs": [
    {
     "name": "stdout",
     "output_type": "stream",
     "text": [
      "[0 0 0 ... 0 0 0]\n"
     ]
    }
   ],
   "source": [
    "y_pred_train=lr.predict(x_train)\n",
    "y_pred_test=lr.predict(x_test)\n",
    "print(y_pred_train)"
   ]
  },
  {
   "cell_type": "code",
   "execution_count": 138,
   "id": "73fd864d",
   "metadata": {},
   "outputs": [
    {
     "data": {
      "text/plain": [
       "array([[17888,    27],\n",
       "       [ 2410,    20]], dtype=int64)"
      ]
     },
     "execution_count": 138,
     "metadata": {},
     "output_type": "execute_result"
    }
   ],
   "source": [
    "import sklearn.metrics as metrics\n",
    "metrics.confusion_matrix(y_train,y_pred_train)"
   ]
  },
  {
   "cell_type": "code",
   "execution_count": 139,
   "id": "7a2d2422",
   "metadata": {},
   "outputs": [
    {
     "data": {
      "text/plain": [
       "0.8802162693536495"
      ]
     },
     "execution_count": 139,
     "metadata": {},
     "output_type": "execute_result"
    }
   ],
   "source": [
    "metrics.accuracy_score(y_train,y_pred_train)"
   ]
  },
  {
   "cell_type": "code",
   "execution_count": 140,
   "id": "9db2c1d0",
   "metadata": {},
   "outputs": [
    {
     "data": {
      "text/plain": [
       "array([[1990,    3],\n",
       "       [ 265,    3]], dtype=int64)"
      ]
     },
     "execution_count": 140,
     "metadata": {},
     "output_type": "execute_result"
    }
   ],
   "source": [
    "metrics.confusion_matrix(y_test,y_pred_test)"
   ]
  },
  {
   "cell_type": "code",
   "execution_count": 141,
   "id": "f30ec5ac",
   "metadata": {},
   "outputs": [
    {
     "data": {
      "text/plain": [
       "0.8814683768244139"
      ]
     },
     "execution_count": 141,
     "metadata": {},
     "output_type": "execute_result"
    }
   ],
   "source": [
    "metrics.accuracy_score(y_test,y_pred_test)"
   ]
  },
  {
   "cell_type": "markdown",
   "id": "32730d68",
   "metadata": {},
   "source": [
    "# 建立决策树模型"
   ]
  },
  {
   "cell_type": "code",
   "execution_count": 142,
   "id": "cf3d1ab0",
   "metadata": {},
   "outputs": [],
   "source": [
    "from sklearn import tree\n",
    "from sklearn.tree import DecisionTreeClassifier"
   ]
  },
  {
   "cell_type": "code",
   "execution_count": 143,
   "id": "b2ed5a4b",
   "metadata": {},
   "outputs": [],
   "source": [
    "dt=DecisionTreeClassifier(max_depth=3,min_samples_leaf=100,random_state=100)"
   ]
  },
  {
   "cell_type": "code",
   "execution_count": 144,
   "id": "ae55a509",
   "metadata": {},
   "outputs": [],
   "source": [
    "#拟合模型\n",
    "dt=dt.fit(x_train,y_train)\n",
    "#给测试集的精度打分\n",
    "dt_score_test=dt.score(x_test,y_test)\n",
    "dt_score_train=dt.score(x_train,y_train)"
   ]
  },
  {
   "cell_type": "code",
   "execution_count": 145,
   "id": "26da2fe7",
   "metadata": {},
   "outputs": [
    {
     "name": "stdout",
     "output_type": "stream",
     "text": [
      "0.8814683768244139\n",
      "0.8805603342344557\n"
     ]
    }
   ],
   "source": [
    "#打印测试机和和训练集的分数\n",
    "print(dt_score_test)\n",
    "print(dt_score_train)"
   ]
  },
  {
   "cell_type": "code",
   "execution_count": 146,
   "id": "b7ac0452",
   "metadata": {},
   "outputs": [],
   "source": [
    "#导入网格搜素模块\n",
    "from sklearn.model_selection import GridSearchCV\n",
    "grid_params={'max_depth':[1,2,3,4,5,6],'min_samples_leaf':[50,80,100,120]}\n",
    "grid_object=GridSearchCV(estimator=dt,param_grid=grid_params,scoring='accuracy',cv=10,n_jobs=-1)"
   ]
  },
  {
   "cell_type": "code",
   "execution_count": 147,
   "id": "4d58ea40",
   "metadata": {},
   "outputs": [
    {
     "name": "stdout",
     "output_type": "stream",
     "text": [
      "[[1993    0]\n",
      " [ 268    0]]\n"
     ]
    }
   ],
   "source": [
    "#导入混淆矩阵\n",
    "from sklearn.metrics import confusion_matrix\n",
    "prediction=dt.predict(x_test)\n",
    "print(confusion_matrix(y_test,prediction))"
   ]
  },
  {
   "cell_type": "code",
   "execution_count": 148,
   "id": "a1795156",
   "metadata": {},
   "outputs": [
    {
     "name": "stdout",
     "output_type": "stream",
     "text": [
      "              precision    recall  f1-score   support\n",
      "\n",
      "           0       0.88      1.00      0.94      1993\n",
      "           1       0.00      0.00      0.00       268\n",
      "\n",
      "    accuracy                           0.88      2261\n",
      "   macro avg       0.44      0.50      0.47      2261\n",
      "weighted avg       0.78      0.88      0.83      2261\n",
      "\n"
     ]
    },
    {
     "name": "stderr",
     "output_type": "stream",
     "text": [
      "E:\\anaconda\\lib\\site-packages\\sklearn\\metrics\\_classification.py:1248: UndefinedMetricWarning: Precision and F-score are ill-defined and being set to 0.0 in labels with no predicted samples. Use `zero_division` parameter to control this behavior.\n",
      "  _warn_prf(average, modifier, msg_start, len(result))\n",
      "E:\\anaconda\\lib\\site-packages\\sklearn\\metrics\\_classification.py:1248: UndefinedMetricWarning: Precision and F-score are ill-defined and being set to 0.0 in labels with no predicted samples. Use `zero_division` parameter to control this behavior.\n",
      "  _warn_prf(average, modifier, msg_start, len(result))\n",
      "E:\\anaconda\\lib\\site-packages\\sklearn\\metrics\\_classification.py:1248: UndefinedMetricWarning: Precision and F-score are ill-defined and being set to 0.0 in labels with no predicted samples. Use `zero_division` parameter to control this behavior.\n",
      "  _warn_prf(average, modifier, msg_start, len(result))\n"
     ]
    }
   ],
   "source": [
    "from sklearn.metrics import classification_report\n",
    "print(classification_report(y_test,prediction))"
   ]
  },
  {
   "cell_type": "code",
   "execution_count": 149,
   "id": "9291e1c0",
   "metadata": {},
   "outputs": [
    {
     "name": "stdout",
     "output_type": "stream",
     "text": [
      "0.5\n"
     ]
    }
   ],
   "source": [
    "#ROC曲线\n",
    "dt_y_pred_train=dt.predict(x_train)\n",
    "from sklearn.metrics import roc_curve, auc\n",
    "fpr,tpr,threshold=roc_curve(y_train,dt_y_pred_train)\n",
    "dt_roc_auc=auc(fpr,tpr)\n",
    "print(dt_roc_auc)"
   ]
  },
  {
   "cell_type": "code",
   "execution_count": 132,
   "id": "e40ce4fd",
   "metadata": {},
   "outputs": [
    {
     "data": {
      "text/plain": [
       "'决策树可视化.pdf'"
      ]
     },
     "execution_count": 132,
     "metadata": {},
     "output_type": "execute_result"
    }
   ],
   "source": [
    "#决策树可视化\n",
    "from sklearn.tree import export_graphviz\n",
    "import graphviz\n",
    "dot_data=export_graphviz(dt,out_file=None)\n",
    "graph=graphviz.Source(dot_data)\n",
    "graph.render('决策树可视化')"
   ]
  },
  {
   "cell_type": "code",
   "execution_count": null,
   "id": "f4675e93",
   "metadata": {},
   "outputs": [],
   "source": []
  },
  {
   "cell_type": "code",
   "execution_count": null,
   "id": "a30aa8d3",
   "metadata": {},
   "outputs": [],
   "source": []
  }
 ],
 "metadata": {
  "kernelspec": {
   "display_name": "Python 3 (ipykernel)",
   "language": "python",
   "name": "python3"
  },
  "language_info": {
   "codemirror_mode": {
    "name": "ipython",
    "version": 3
   },
   "file_extension": ".py",
   "mimetype": "text/x-python",
   "name": "python",
   "nbconvert_exporter": "python",
   "pygments_lexer": "ipython3",
   "version": "3.9.7"
  }
 },
 "nbformat": 4,
 "nbformat_minor": 5
}
